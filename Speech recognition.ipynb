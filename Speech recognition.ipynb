{
 "cells": [
  {
   "cell_type": "code",
   "execution_count": null,
   "outputs": [],
   "source": [
    "import os\n",
    "import pandas as pd\n",
    "import librosa\n",
    "import numpy as np\n",
    "from sklearn.model_selection import train_test_split\n",
    "from tensorflow.keras.preprocessing.text import Tokenizer\n",
    "from tensorflow.keras.preprocessing.sequence import pad_sequences\n",
    "from tensorflow.keras.models import Sequential\n",
    "from tensorflow.keras.layers import SimpleRNN, LSTM, GRU, Embedding, Dense\n",
    "from tensorflow.keras.callbacks import History\n",
    "from sklearn.preprocessing import StandardScaler\n",
    "from sklearn.metrics import f1_score"
   ],
   "metadata": {
    "collapsed": false,
    "pycharm": {
     "name": "#%%\n"
    }
   }
  },
  {
   "cell_type": "code",
   "execution_count": null,
   "outputs": [],
   "source": [
    "audio_dir = 'Persian-Speech-To-Text-Audios'\n",
    "spectrogram_dir = '/Users/homabarghamadi/Downloads/DL-HW4-Dataset/spectrograms'\n",
    "audio_files = os.listdir(audio_dir)\n",
    "\n",
    "for file in audio_files:\n",
    "    y, sr = librosa.load(os.path.join(audio_dir, file))\n",
    "    spectrogram = librosa.feature.melspectrogram(y=y, sr=sr, n_mels=128, fmax=8000)\n",
    "    np.save(os.path.join(spectrogram_dir, file.replace('.wav', '.npy')), spectrogram)"
   ],
   "metadata": {
    "collapsed": false,
    "pycharm": {
     "name": "#%%\n"
    }
   }
  },
  {
   "cell_type": "code",
   "execution_count": null,
   "outputs": [],
   "source": [
    "from sklearn.preprocessing import LabelEncoder\n",
    "df = pd.read_excel('Persian-Speech-To-Text-Maps.xlsx')\n",
    "char_encoder = LabelEncoder()\n",
    "chars = sorted(list(set(df['text'].str.cat(sep=''))))\n",
    "char_encoder.fit(chars)\n",
    "num_chars = len(char_encoder.classes_)\n",
    "print('Number of unique characters:', num_chars)\n",
    "tokenizer = Tokenizer()\n",
    "tokenizer.fit_on_texts(df['text'])\n",
    "num_words = len(tokenizer.word_index) + 1\n",
    "print('Number of unique words:', num_words)\n",
    "if num_chars < num_words:\n",
    "    print(\"Character-level encoding is better as it has fewer unique tokens.\")\n",
    "else:\n",
    "    print(\"Word-level encoding is better as it has fewer unique tokens.\")\n"
   ],
   "metadata": {
    "collapsed": false,
    "pycharm": {
     "name": "#%%\n"
    }
   }
  },
  {
   "cell_type": "code",
   "execution_count": null,
   "outputs": [],
   "source": [
    "df = pd.read_excel('Persian-Speech-To-Text-Maps.xlsx')\n",
    "df['audio'] = df['audio'].apply(lambda path: os.path.basename(path))\n",
    "tokenizer = Tokenizer()\n",
    "tokenizer.fit_on_texts(df['text'])\n",
    "sequences = tokenizer.texts_to_sequences(df['text'])\n",
    "sequences = pad_sequences(sequences)\n",
    "spectrograms = []\n",
    "max_length = 0\n",
    "for file in df['audio']:\n",
    "    spectrogram_path = os.path.join(spectrogram_dir, file.replace('.wav', '.npy'))\n",
    "\n",
    "    if os.path.exists(spectrogram_path):\n",
    "        spectrogram = np.load(spectrogram_path)\n",
    "        spectrograms.append(spectrogram)\n",
    "\n",
    "        if spectrogram.shape[1] > max_length:\n",
    "            max_length = spectrogram.shape[1]\n",
    "    else:\n",
    "        print(f\"Spectrogram file not found for {file}\")\n",
    "spectrograms_padded = []\n",
    "for spectrogram in spectrograms:\n",
    "    padded = np.pad(spectrogram, ((0, 0), (0, max_length - spectrogram.shape[1])))\n",
    "    spectrograms_padded.append(padded)\n",
    "spectrograms = np.array(spectrograms_padded)\n",
    "X_train, X_test, y_train, y_test = train_test_split(spectrograms, sequences, test_size=0.3, random_state=42)\n",
    "X_val, X_test, y_val, y_test = train_test_split(X_test, y_test, test_size=0.5, random_state=42)\n"
   ],
   "metadata": {
    "collapsed": false,
    "pycharm": {
     "name": "#%%\n"
    }
   }
  },
  {
   "cell_type": "code",
   "execution_count": null,
   "outputs": [],
   "source": [
    "from sklearn.preprocessing import StandardScaler\n",
    "from keras.utils import to_categorical\n",
    "scaler = StandardScaler()\n",
    "X_train = scaler.fit_transform(X_train.reshape(-1, X_train.shape[-1])).reshape(X_train.shape)\n",
    "X_val = scaler.transform(X_val.reshape(-1, X_val.shape[-1])).reshape(X_val.shape)\n",
    "X_test = scaler.transform(X_test.reshape(-1, X_test.shape[-1])).reshape(X_test.shape)"
   ],
   "metadata": {
    "collapsed": false,
    "pycharm": {
     "name": "#%%\n"
    }
   }
  },
  {
   "cell_type": "code",
   "execution_count": null,
   "outputs": [],
   "source": [
    "X_train.shape"
   ],
   "metadata": {
    "collapsed": false,
    "pycharm": {
     "name": "#%%\n"
    }
   }
  },
  {
   "cell_type": "code",
   "execution_count": null,
   "outputs": [],
   "source": [
    "from keras.layers import GlobalAveragePooling1D, RepeatVector, TimeDistributed, LSTM, Dropout\n",
    "from keras.callbacks import History\n",
    "from keras.models import Sequential\n",
    "from keras.layers import Dense\n",
    "from keras.optimizers import Adam\n",
    "from keras.layers import BatchNormalization\n",
    "\n",
    "model_RNN = Sequential()\n",
    "model_RNN.add(SimpleRNN(256, input_shape=(128, 431), return_sequences=True))\n",
    "model_RNN.add(Dropout(0.2))\n",
    "model_RNN.add(GlobalAveragePooling1D())\n",
    "model_RNN.add(BatchNormalization())\n",
    "model_RNN.add(RepeatVector(30))\n",
    "model_RNN.add(BatchNormalization())\n",
    "model_RNN.add(TimeDistributed(Dense(2102, activation='sigmoid')))\n",
    "model_RNN.compile(loss='sparse_categorical_crossentropy', optimizer='adam', metrics=['accuracy'])"
   ],
   "metadata": {
    "collapsed": false,
    "pycharm": {
     "name": "#%%\n"
    }
   }
  },
  {
   "cell_type": "code",
   "execution_count": null,
   "outputs": [],
   "source": [
    "from keras.layers import GlobalAveragePooling1D, RepeatVector, TimeDistributed, LSTM, Dropout\n",
    "from keras.callbacks import History\n",
    "from keras.models import Sequential\n",
    "from keras.layers import Dense\n",
    "\n",
    "model_lstm = Sequential()\n",
    "model_lstm.add(LSTM(256, input_shape=(128, 431), return_sequences=True))\n",
    "model_lstm.add(Dropout(0.2))\n",
    "model_lstm.add(GlobalAveragePooling1D())\n",
    "model_lstm.add(BatchNormalization())\n",
    "model_lstm.add(RepeatVector(30))\n",
    "model_lstm.add(BatchNormalization())\n",
    "model_lstm.add(TimeDistributed(Dense(2102, activation='sigmoid')))\n",
    "model_lstm.compile(loss='sparse_categorical_crossentropy', optimizer='adam', metrics=['accuracy'])"
   ],
   "metadata": {
    "collapsed": false,
    "pycharm": {
     "name": "#%%\n"
    }
   }
  },
  {
   "cell_type": "code",
   "execution_count": null,
   "outputs": [],
   "source": [
    "from keras.layers import GlobalAveragePooling1D, RepeatVector, TimeDistributed, LSTM, Dropout\n",
    "from keras.callbacks import History\n",
    "from keras.models import Sequential\n",
    "from keras.layers import Dense\n",
    "\n",
    "model_GRU = Sequential()\n",
    "model_GRU.add(GRU(256, input_shape=(128, 431), return_sequences=True))\n",
    "model_GRU.add(Dropout(0.2))\n",
    "model_GRU.add(GlobalAveragePooling1D())\n",
    "model_GRU.add(BatchNormalization())\n",
    "model_GRU.add(RepeatVector(30))\n",
    "model_GRU.add(BatchNormalization())\n",
    "model_GRU.add(TimeDistributed(Dense(2102, activation='sigmoid')))\n",
    "model_GRU.compile(loss='sparse_categorical_crossentropy', optimizer='adam', metrics=['accuracy'])"
   ],
   "metadata": {
    "collapsed": false,
    "pycharm": {
     "name": "#%%\n"
    }
   }
  },
  {
   "cell_type": "code",
   "execution_count": null,
   "outputs": [],
   "source": [
    "print(\"train RNN model\")\n",
    "history_RNN = model_RNN.fit(X_train, y_train, batch_size=32, epochs=20, validation_data=(X_val, y_val))\n",
    "print(\"train LSTM model\")\n",
    "history_lstm = model_lstm.fit(X_train, y_train, batch_size=32, epochs=20, validation_data=(X_val, y_val))\n",
    "print(\"train GRU model\")\n",
    "history_GRU = model_GRU.fit(X_train, y_train, batch_size=32, epochs=20, validation_data=(X_val, y_val))"
   ],
   "metadata": {
    "collapsed": false,
    "pycharm": {
     "name": "#%%\n"
    }
   }
  },
  {
   "cell_type": "code",
   "execution_count": null,
   "outputs": [],
   "source": [
    "loss_RNN, acc_RNN = model_RNN.evaluate(X_test, y_test)\n",
    "loss_lstm, acc_lstm = model_lstm.evaluate(X_test, y_test)\n",
    "loss_GRU, acc_GRU = model_GRU.evaluate(X_test, y_test)"
   ],
   "metadata": {
    "collapsed": false,
    "pycharm": {
     "name": "#%%\n"
    }
   }
  },
  {
   "cell_type": "code",
   "execution_count": null,
   "outputs": [],
   "source": [
    "y_pred_RNN = model_RNN.predict(X_test)\n",
    "y_pred_lstm = model_lstm.predict(X_test)\n",
    "y_pred_GRU = model_GRU.predict(X_test)"
   ],
   "metadata": {
    "collapsed": false,
    "pycharm": {
     "name": "#%%\n"
    }
   }
  },
  {
   "cell_type": "code",
   "execution_count": null,
   "outputs": [],
   "source": [
    "y_pred_RNN = np.argmax(y_pred_RNN, axis=2)\n",
    "y_pred_lstm = np.argmax(y_pred_lstm, axis=2)\n",
    "y_pred_GRU = np.argmax(y_pred_GRU, axis=2)"
   ],
   "metadata": {
    "collapsed": false,
    "pycharm": {
     "name": "#%%\n"
    }
   }
  },
  {
   "cell_type": "code",
   "execution_count": null,
   "outputs": [],
   "source": [
    "f1_score_RNN = f1_score(y_test.flatten(), y_pred_RNN.flatten(), average='weighted')\n",
    "f1_score_lstm = f1_score(y_test.flatten(), y_pred_lstm.flatten(), average='weighted')\n",
    "f1_score_GRU = f1_score(y_test.flatten(), y_pred_GRU.flatten(), average='weighted')"
   ],
   "metadata": {
    "collapsed": false,
    "pycharm": {
     "name": "#%%\n"
    }
   }
  },
  {
   "cell_type": "code",
   "execution_count": null,
   "outputs": [],
   "source": [
    "print(\"RNN Model:\")\n",
    "print(\"Loss:\", loss_RNN)\n",
    "print(\"Accuracy:\", acc_RNN)\n",
    "print(\"F1 Score:\", f1_score_RNN)\n",
    "\n",
    "print(\"\\nLSTM Model:\")\n",
    "print(\"Loss:\", loss_lstm)\n",
    "print(\"Accuracy:\", acc_lstm)\n",
    "print(\"F1 Score:\", f1_score_lstm)\n",
    "\n",
    "print(\"\\nGRU Model:\")\n",
    "print(\"Loss:\", loss_GRU)\n",
    "print(\"Accuracy:\", acc_GRU)\n",
    "print(\"F1 Score:\", f1_score_GRU)"
   ],
   "metadata": {
    "collapsed": false,
    "pycharm": {
     "name": "#%%\n"
    }
   }
  },
  {
   "cell_type": "code",
   "execution_count": null,
   "outputs": [],
   "source": [
    "import matplotlib.pyplot as plt\n",
    "\n",
    "epochs = range(1, len(history_RNN.history['accuracy']) + 1)\n",
    "\n",
    "plt.plot(epochs, history_RNN.history['accuracy'], 'b', label='RNN Training Accuracy')\n",
    "plt.plot(epochs, history_RNN.history['val_accuracy'], 'g', label='RNN Validation Accuracy')\n",
    "plt.plot(epochs, history_lstm.history['accuracy'], 'r', label='LSTM Training Accuracy')\n",
    "plt.plot(epochs, history_lstm.history['val_accuracy'], 'm', label='LSTM Validation Accuracy')\n",
    "plt.plot(epochs, history_GRU.history['accuracy'], 'c', label='GRU Training Accuracy')\n",
    "plt.plot(epochs, history_GRU.history['val_accuracy'], 'y', label='GRU Validation Accuracy')\n",
    "plt.title('Training and Validation Accuracy')\n",
    "plt.xlabel('Epochs')\n",
    "plt.ylabel('Accuracy')\n",
    "plt.legend()\n",
    "plt.show()"
   ],
   "metadata": {
    "collapsed": false,
    "pycharm": {
     "name": "#%%\n"
    }
   }
  },
  {
   "cell_type": "code",
   "execution_count": null,
   "outputs": [],
   "source": [
    "predicted_sequences_RNN = model_RNN.predict(X_test)\n",
    "predicted_sequences_RNN = np.argmax(predicted_sequences_RNN, axis=2)\n",
    "predicted_texts_RNN = tokenizer.sequences_to_texts(predicted_sequences_RNN)\n",
    "original_texts = tokenizer.sequences_to_texts(y_test)\n",
    "for i in range(len(predicted_texts_RNN)):\n",
    "    print(\"Audio File:\", audio_files[i])\n",
    "    print(\"Predicted Text:\", predicted_texts_RNN[i])\n",
    "    print(\"Original Text:\", original_texts[i])\n",
    "    print()\n"
   ],
   "metadata": {
    "collapsed": false,
    "pycharm": {
     "name": "#%%\n"
    }
   }
  },
  {
   "cell_type": "code",
   "execution_count": 11,
   "metadata": {
    "pycharm": {
     "name": "#%%\n"
    }
   },
   "outputs": [
    {
     "name": "stderr",
     "output_type": "stream",
     "text": [
      "2023-06-19 21:32:07.434717: I tensorflow/core/common_runtime/executor.cc:1197] [/device:CPU:0] (DEBUG INFO) Executor start aborting (this does not indicate an error and you can ignore this message): INVALID_ARGUMENT: You must feed a value for placeholder tensor 'gradients/split_2_grad/concat/split_2/split_dim' with dtype int32\n",
      "\t [[{{node gradients/split_2_grad/concat/split_2/split_dim}}]]\n",
      "2023-06-19 21:32:07.435563: I tensorflow/core/common_runtime/executor.cc:1197] [/device:CPU:0] (DEBUG INFO) Executor start aborting (this does not indicate an error and you can ignore this message): INVALID_ARGUMENT: You must feed a value for placeholder tensor 'gradients/split_grad/concat/split/split_dim' with dtype int32\n",
      "\t [[{{node gradients/split_grad/concat/split/split_dim}}]]\n",
      "2023-06-19 21:32:07.436637: I tensorflow/core/common_runtime/executor.cc:1197] [/device:CPU:0] (DEBUG INFO) Executor start aborting (this does not indicate an error and you can ignore this message): INVALID_ARGUMENT: You must feed a value for placeholder tensor 'gradients/split_1_grad/concat/split_1/split_dim' with dtype int32\n",
      "\t [[{{node gradients/split_1_grad/concat/split_1/split_dim}}]]\n"
     ]
    }
   ],
   "source": [
    "from keras.layers import GlobalAveragePooling1D, RepeatVector, TimeDistributed, LSTM, Dropout\n",
    "from keras.callbacks import History\n",
    "from keras.models import Sequential\n",
    "from keras.layers import Dense\n",
    "\n",
    "model_GRU = Sequential()\n",
    "model_GRU.add(GRU(256, input_shape=(128, 431), return_sequences=True))\n",
    "model_GRU.add(Dropout(0.2))\n",
    "model_GRU.add(GlobalAveragePooling1D())\n",
    "model_GRU.add(BatchNormalization())\n",
    "model_GRU.add(RepeatVector(30))\n",
    "model_GRU.add(BatchNormalization())\n",
    "model_GRU.add(TimeDistributed(Dense(2102, activation='sigmoid')))\n",
    "model_GRU.compile(loss='sparse_categorical_crossentropy', optimizer='adam', metrics=['accuracy'])"
   ]
  },
  {
   "cell_type": "code",
   "execution_count": 14,
   "metadata": {
    "pycharm": {
     "name": "#%%\n"
    }
   },
   "outputs": [
    {
     "name": "stdout",
     "output_type": "stream",
     "text": [
      "train RNN model\n",
      "Epoch 1/20\n",
      "11/11 [==============================] - 1s 127ms/step - loss: 5.7877 - accuracy: 0.2206 - val_loss: 6.2836 - val_accuracy: 0.2124\n",
      "Epoch 2/20\n",
      "11/11 [==============================] - 1s 134ms/step - loss: 5.7580 - accuracy: 0.2144 - val_loss: 6.1986 - val_accuracy: 0.2311\n",
      "Epoch 3/20\n",
      "11/11 [==============================] - 2s 145ms/step - loss: 5.6635 - accuracy: 0.2160 - val_loss: 6.2008 - val_accuracy: 0.2333\n",
      "Epoch 4/20\n",
      "11/11 [==============================] - 1s 104ms/step - loss: 5.6115 - accuracy: 0.2244 - val_loss: 6.2735 - val_accuracy: 0.2169\n",
      "Epoch 5/20\n",
      "11/11 [==============================] - 1s 101ms/step - loss: 5.4501 - accuracy: 0.2377 - val_loss: 6.0934 - val_accuracy: 0.2431\n",
      "Epoch 6/20\n",
      "11/11 [==============================] - 1s 107ms/step - loss: 5.3745 - accuracy: 0.2374 - val_loss: 6.0997 - val_accuracy: 0.2422\n",
      "Epoch 7/20\n",
      "11/11 [==============================] - 1s 103ms/step - loss: 5.3872 - accuracy: 0.2464 - val_loss: 5.9778 - val_accuracy: 0.2600\n",
      "Epoch 8/20\n",
      "11/11 [==============================] - 1s 119ms/step - loss: 5.3009 - accuracy: 0.2549 - val_loss: 5.8966 - val_accuracy: 0.2862\n",
      "Epoch 9/20\n",
      "11/11 [==============================] - 1s 120ms/step - loss: 5.1652 - accuracy: 0.2688 - val_loss: 5.8317 - val_accuracy: 0.2987\n",
      "Epoch 10/20\n",
      "11/11 [==============================] - 1s 103ms/step - loss: 5.2127 - accuracy: 0.2553 - val_loss: 6.0919 - val_accuracy: 0.2507\n",
      "Epoch 11/20\n",
      "11/11 [==============================] - 2s 164ms/step - loss: 5.2750 - accuracy: 0.2427 - val_loss: 6.1519 - val_accuracy: 0.2489\n",
      "Epoch 12/20\n",
      "11/11 [==============================] - 2s 153ms/step - loss: 5.1192 - accuracy: 0.2540 - val_loss: 5.9252 - val_accuracy: 0.2778\n",
      "Epoch 13/20\n",
      "11/11 [==============================] - 2s 142ms/step - loss: 5.1052 - accuracy: 0.2614 - val_loss: 5.7077 - val_accuracy: 0.3271\n",
      "Epoch 14/20\n",
      "11/11 [==============================] - 2s 143ms/step - loss: 5.1585 - accuracy: 0.2656 - val_loss: 6.1082 - val_accuracy: 0.2680\n",
      "Epoch 15/20\n",
      "11/11 [==============================] - 1s 108ms/step - loss: 5.1468 - accuracy: 0.2695 - val_loss: 6.1220 - val_accuracy: 0.2702\n",
      "Epoch 16/20\n",
      "11/11 [==============================] - 1s 110ms/step - loss: 4.9405 - accuracy: 0.2748 - val_loss: 6.1327 - val_accuracy: 0.2747\n",
      "Epoch 17/20\n",
      "11/11 [==============================] - 1s 120ms/step - loss: 4.7752 - accuracy: 0.2748 - val_loss: 6.0212 - val_accuracy: 0.2747\n",
      "Epoch 18/20\n",
      "11/11 [==============================] - 1s 109ms/step - loss: 4.9128 - accuracy: 0.2692 - val_loss: 6.0040 - val_accuracy: 0.2747\n",
      "Epoch 19/20\n",
      "11/11 [==============================] - 1s 129ms/step - loss: 4.8000 - accuracy: 0.2721 - val_loss: 6.1417 - val_accuracy: 0.2711\n",
      "Epoch 20/20\n",
      "11/11 [==============================] - 1s 127ms/step - loss: 4.9403 - accuracy: 0.2571 - val_loss: 6.3067 - val_accuracy: 0.2418\n",
      "train LSTM model\n",
      "Epoch 1/20\n",
      "11/11 [==============================] - 3s 294ms/step - loss: 7.0509 - accuracy: 0.0139 - val_loss: 7.4740 - val_accuracy: 0.2400\n",
      "Epoch 2/20\n",
      "11/11 [==============================] - 4s 346ms/step - loss: 6.7020 - accuracy: 0.0102 - val_loss: 7.5078 - val_accuracy: 0.2578\n",
      "Epoch 3/20\n",
      "11/11 [==============================] - 4s 332ms/step - loss: 6.2449 - accuracy: 0.1063 - val_loss: 7.0949 - val_accuracy: 0.3951\n",
      "Epoch 4/20\n",
      "11/11 [==============================] - 4s 367ms/step - loss: 6.1042 - accuracy: 0.2056 - val_loss: 7.1349 - val_accuracy: 0.2596\n",
      "Epoch 5/20\n",
      "11/11 [==============================] - 4s 400ms/step - loss: 5.5918 - accuracy: 0.2588 - val_loss: 7.1416 - val_accuracy: 0.2080\n",
      "Epoch 6/20\n",
      "11/11 [==============================] - 4s 331ms/step - loss: 5.4487 - accuracy: 0.2474 - val_loss: 7.0589 - val_accuracy: 0.2018\n",
      "Epoch 7/20\n",
      "11/11 [==============================] - 4s 375ms/step - loss: 5.4339 - accuracy: 0.2405 - val_loss: 7.0960 - val_accuracy: 0.1636\n",
      "Epoch 8/20\n",
      "11/11 [==============================] - 3s 306ms/step - loss: 5.7994 - accuracy: 0.1860 - val_loss: 7.1512 - val_accuracy: 0.1422\n",
      "Epoch 9/20\n",
      "11/11 [==============================] - 4s 341ms/step - loss: 5.8583 - accuracy: 0.1848 - val_loss: 7.0194 - val_accuracy: 0.1564\n",
      "Epoch 10/20\n",
      "11/11 [==============================] - 4s 337ms/step - loss: 5.8314 - accuracy: 0.1854 - val_loss: 7.1447 - val_accuracy: 0.1080\n",
      "Epoch 11/20\n",
      "11/11 [==============================] - 4s 358ms/step - loss: 5.7675 - accuracy: 0.1856 - val_loss: 6.8847 - val_accuracy: 0.1507\n",
      "Epoch 12/20\n",
      "11/11 [==============================] - 3s 309ms/step - loss: 5.5216 - accuracy: 0.1995 - val_loss: 6.7627 - val_accuracy: 0.1604\n",
      "Epoch 13/20\n",
      "11/11 [==============================] - 6s 549ms/step - loss: 5.4096 - accuracy: 0.2099 - val_loss: 6.6887 - val_accuracy: 0.1667\n",
      "Epoch 14/20\n",
      "11/11 [==============================] - 8s 707ms/step - loss: 5.3411 - accuracy: 0.2136 - val_loss: 6.5681 - val_accuracy: 0.1822\n",
      "Epoch 15/20\n",
      "11/11 [==============================] - 6s 560ms/step - loss: 5.2643 - accuracy: 0.2170 - val_loss: 6.4923 - val_accuracy: 0.1884\n",
      "Epoch 16/20\n",
      "11/11 [==============================] - 6s 509ms/step - loss: 5.2155 - accuracy: 0.2236 - val_loss: 6.3907 - val_accuracy: 0.2009\n",
      "Epoch 17/20\n",
      "11/11 [==============================] - 4s 317ms/step - loss: 5.1987 - accuracy: 0.2248 - val_loss: 6.3423 - val_accuracy: 0.2004\n",
      "Epoch 18/20\n",
      "11/11 [==============================] - 4s 368ms/step - loss: 5.1572 - accuracy: 0.2194 - val_loss: 6.3606 - val_accuracy: 0.2004\n",
      "Epoch 19/20\n",
      "11/11 [==============================] - 3s 293ms/step - loss: 5.0910 - accuracy: 0.2227 - val_loss: 6.3440 - val_accuracy: 0.2004\n",
      "Epoch 20/20\n",
      "11/11 [==============================] - 4s 361ms/step - loss: 5.1128 - accuracy: 0.2234 - val_loss: 6.4315 - val_accuracy: 0.1849\n",
      "train GRU model\n",
      "Epoch 1/20\n"
     ]
    },
    {
     "name": "stderr",
     "output_type": "stream",
     "text": [
      "2023-06-19 21:35:42.995405: I tensorflow/core/common_runtime/executor.cc:1197] [/device:CPU:0] (DEBUG INFO) Executor start aborting (this does not indicate an error and you can ignore this message): INVALID_ARGUMENT: You must feed a value for placeholder tensor 'gradients/split_2_grad/concat/split_2/split_dim' with dtype int32\n",
      "\t [[{{node gradients/split_2_grad/concat/split_2/split_dim}}]]\n",
      "2023-06-19 21:35:42.998195: I tensorflow/core/common_runtime/executor.cc:1197] [/device:CPU:0] (DEBUG INFO) Executor start aborting (this does not indicate an error and you can ignore this message): INVALID_ARGUMENT: You must feed a value for placeholder tensor 'gradients/split_grad/concat/split/split_dim' with dtype int32\n",
      "\t [[{{node gradients/split_grad/concat/split/split_dim}}]]\n",
      "2023-06-19 21:35:42.999821: I tensorflow/core/common_runtime/executor.cc:1197] [/device:CPU:0] (DEBUG INFO) Executor start aborting (this does not indicate an error and you can ignore this message): INVALID_ARGUMENT: You must feed a value for placeholder tensor 'gradients/split_1_grad/concat/split_1/split_dim' with dtype int32\n",
      "\t [[{{node gradients/split_1_grad/concat/split_1/split_dim}}]]\n",
      "2023-06-19 21:35:44.475134: I tensorflow/core/common_runtime/executor.cc:1197] [/device:CPU:0] (DEBUG INFO) Executor start aborting (this does not indicate an error and you can ignore this message): INVALID_ARGUMENT: You must feed a value for placeholder tensor 'gradients/split_2_grad/concat/split_2/split_dim' with dtype int32\n",
      "\t [[{{node gradients/split_2_grad/concat/split_2/split_dim}}]]\n",
      "2023-06-19 21:35:44.476832: I tensorflow/core/common_runtime/executor.cc:1197] [/device:CPU:0] (DEBUG INFO) Executor start aborting (this does not indicate an error and you can ignore this message): INVALID_ARGUMENT: You must feed a value for placeholder tensor 'gradients/split_grad/concat/split/split_dim' with dtype int32\n",
      "\t [[{{node gradients/split_grad/concat/split/split_dim}}]]\n",
      "2023-06-19 21:35:44.478883: I tensorflow/core/common_runtime/executor.cc:1197] [/device:CPU:0] (DEBUG INFO) Executor start aborting (this does not indicate an error and you can ignore this message): INVALID_ARGUMENT: You must feed a value for placeholder tensor 'gradients/split_1_grad/concat/split_1/split_dim' with dtype int32\n",
      "\t [[{{node gradients/split_1_grad/concat/split_1/split_dim}}]]\n"
     ]
    },
    {
     "name": "stdout",
     "output_type": "stream",
     "text": [
      "11/11 [==============================] - ETA: 0s - loss: 7.6623 - accuracy: 0.0172"
     ]
    },
    {
     "name": "stderr",
     "output_type": "stream",
     "text": [
      "2023-06-19 21:35:47.771338: I tensorflow/core/common_runtime/executor.cc:1197] [/device:CPU:0] (DEBUG INFO) Executor start aborting (this does not indicate an error and you can ignore this message): INVALID_ARGUMENT: You must feed a value for placeholder tensor 'gradients/split_2_grad/concat/split_2/split_dim' with dtype int32\n",
      "\t [[{{node gradients/split_2_grad/concat/split_2/split_dim}}]]\n",
      "2023-06-19 21:35:47.772234: I tensorflow/core/common_runtime/executor.cc:1197] [/device:CPU:0] (DEBUG INFO) Executor start aborting (this does not indicate an error and you can ignore this message): INVALID_ARGUMENT: You must feed a value for placeholder tensor 'gradients/split_grad/concat/split/split_dim' with dtype int32\n",
      "\t [[{{node gradients/split_grad/concat/split/split_dim}}]]\n",
      "2023-06-19 21:35:47.773329: I tensorflow/core/common_runtime/executor.cc:1197] [/device:CPU:0] (DEBUG INFO) Executor start aborting (this does not indicate an error and you can ignore this message): INVALID_ARGUMENT: You must feed a value for placeholder tensor 'gradients/split_1_grad/concat/split_1/split_dim' with dtype int32\n",
      "\t [[{{node gradients/split_1_grad/concat/split_1/split_dim}}]]\n"
     ]
    },
    {
     "name": "stdout",
     "output_type": "stream",
     "text": [
      "11/11 [==============================] - 6s 248ms/step - loss: 7.6623 - accuracy: 0.0172 - val_loss: 7.6297 - val_accuracy: 0.0218\n",
      "Epoch 2/20\n",
      "11/11 [==============================] - 3s 263ms/step - loss: 7.5010 - accuracy: 0.0072 - val_loss: 7.5918 - val_accuracy: 0.1209\n",
      "Epoch 3/20\n",
      "11/11 [==============================] - 2s 203ms/step - loss: 7.3995 - accuracy: 0.0110 - val_loss: 7.5526 - val_accuracy: 0.1173\n",
      "Epoch 4/20\n",
      "11/11 [==============================] - 2s 193ms/step - loss: 7.3085 - accuracy: 0.0170 - val_loss: 7.5002 - val_accuracy: 0.1231\n",
      "Epoch 5/20\n",
      "11/11 [==============================] - 2s 208ms/step - loss: 7.1933 - accuracy: 0.0164 - val_loss: 7.3700 - val_accuracy: 0.1182\n",
      "Epoch 6/20\n",
      "11/11 [==============================] - 2s 217ms/step - loss: 6.9956 - accuracy: 0.0178 - val_loss: 7.1860 - val_accuracy: 0.1391\n",
      "Epoch 7/20\n",
      "11/11 [==============================] - 2s 190ms/step - loss: 6.6551 - accuracy: 0.0157 - val_loss: 7.1032 - val_accuracy: 0.3627\n",
      "Epoch 8/20\n",
      "11/11 [==============================] - 2s 192ms/step - loss: 6.2204 - accuracy: 0.0602 - val_loss: 7.1076 - val_accuracy: 0.3196\n",
      "Epoch 9/20\n",
      "11/11 [==============================] - 3s 233ms/step - loss: 5.7468 - accuracy: 0.2790 - val_loss: 6.8187 - val_accuracy: 0.3360\n",
      "Epoch 10/20\n",
      "11/11 [==============================] - 2s 201ms/step - loss: 5.4028 - accuracy: 0.2877 - val_loss: 6.5645 - val_accuracy: 0.3507\n",
      "Epoch 11/20\n",
      "11/11 [==============================] - 2s 193ms/step - loss: 5.0644 - accuracy: 0.2973 - val_loss: 6.4884 - val_accuracy: 0.3311\n",
      "Epoch 12/20\n",
      "11/11 [==============================] - 2s 221ms/step - loss: 4.9141 - accuracy: 0.3092 - val_loss: 6.0308 - val_accuracy: 0.3649\n",
      "Epoch 13/20\n",
      "11/11 [==============================] - 2s 215ms/step - loss: 5.0699 - accuracy: 0.2824 - val_loss: 5.9706 - val_accuracy: 0.2951\n",
      "Epoch 14/20\n",
      "11/11 [==============================] - 2s 194ms/step - loss: 5.3278 - accuracy: 0.2503 - val_loss: 6.1270 - val_accuracy: 0.2378\n",
      "Epoch 15/20\n",
      "11/11 [==============================] - 2s 212ms/step - loss: 5.6809 - accuracy: 0.2163 - val_loss: 6.2647 - val_accuracy: 0.2213\n",
      "Epoch 16/20\n",
      "11/11 [==============================] - 3s 229ms/step - loss: 5.6495 - accuracy: 0.2117 - val_loss: 6.1980 - val_accuracy: 0.2213\n",
      "Epoch 17/20\n",
      "11/11 [==============================] - 2s 199ms/step - loss: 5.5308 - accuracy: 0.2169 - val_loss: 6.2204 - val_accuracy: 0.2173\n",
      "Epoch 18/20\n",
      "11/11 [==============================] - 2s 194ms/step - loss: 5.4373 - accuracy: 0.2196 - val_loss: 6.1026 - val_accuracy: 0.2333\n",
      "Epoch 19/20\n",
      "11/11 [==============================] - 3s 238ms/step - loss: 5.3989 - accuracy: 0.2241 - val_loss: 6.0968 - val_accuracy: 0.2333\n",
      "Epoch 20/20\n",
      "11/11 [==============================] - 2s 194ms/step - loss: 5.2896 - accuracy: 0.2249 - val_loss: 6.1048 - val_accuracy: 0.2333\n"
     ]
    }
   ],
   "source": [
    "print(\"train RNN model\")\n",
    "history_RNN = model_RNN.fit(X_train, y_train, batch_size=32, epochs=20, validation_data=(X_val, y_val))\n",
    "print(\"train LSTM model\")\n",
    "history_lstm = model_lstm.fit(X_train, y_train, batch_size=32, epochs=20, validation_data=(X_val, y_val))\n",
    "print(\"train GRU model\")\n",
    "history_GRU = model_GRU.fit(X_train, y_train, batch_size=32, epochs=20, validation_data=(X_val, y_val))"
   ]
  },
  {
   "cell_type": "code",
   "execution_count": 15,
   "metadata": {
    "pycharm": {
     "name": "#%%\n"
    }
   },
   "outputs": [
    {
     "name": "stdout",
     "output_type": "stream",
     "text": [
      "3/3 [==============================] - 0s 54ms/step - loss: 6.3504 - accuracy: 0.2427\n",
      "3/3 [==============================] - 0s 90ms/step - loss: 6.4787 - accuracy: 0.1920\n",
      "3/3 [==============================] - 0s 85ms/step - loss: 6.7477 - accuracy: 0.1462\n"
     ]
    }
   ],
   "source": [
    "loss_RNN, acc_RNN = model_RNN.evaluate(X_test, y_test)\n",
    "loss_lstm, acc_lstm = model_lstm.evaluate(X_test, y_test)\n",
    "loss_GRU, acc_GRU = model_GRU.evaluate(X_test, y_test)"
   ]
  },
  {
   "cell_type": "code",
   "execution_count": 16,
   "metadata": {
    "pycharm": {
     "name": "#%%\n"
    }
   },
   "outputs": [
    {
     "name": "stdout",
     "output_type": "stream",
     "text": [
      "3/3 [==============================] - 0s 37ms/step\n"
     ]
    },
    {
     "name": "stderr",
     "output_type": "stream",
     "text": [
      "2023-06-19 21:41:06.927284: I tensorflow/core/common_runtime/executor.cc:1197] [/device:CPU:0] (DEBUG INFO) Executor start aborting (this does not indicate an error and you can ignore this message): INVALID_ARGUMENT: You must feed a value for placeholder tensor 'gradients/split_2_grad/concat/split_2/split_dim' with dtype int32\n",
      "\t [[{{node gradients/split_2_grad/concat/split_2/split_dim}}]]\n",
      "2023-06-19 21:41:06.928857: I tensorflow/core/common_runtime/executor.cc:1197] [/device:CPU:0] (DEBUG INFO) Executor start aborting (this does not indicate an error and you can ignore this message): INVALID_ARGUMENT: You must feed a value for placeholder tensor 'gradients/split_grad/concat/split/split_dim' with dtype int32\n",
      "\t [[{{node gradients/split_grad/concat/split/split_dim}}]]\n",
      "2023-06-19 21:41:06.929851: I tensorflow/core/common_runtime/executor.cc:1197] [/device:CPU:0] (DEBUG INFO) Executor start aborting (this does not indicate an error and you can ignore this message): INVALID_ARGUMENT: You must feed a value for placeholder tensor 'gradients/split_1_grad/concat/split_1/split_dim' with dtype int32\n",
      "\t [[{{node gradients/split_1_grad/concat/split_1/split_dim}}]]\n"
     ]
    },
    {
     "name": "stdout",
     "output_type": "stream",
     "text": [
      "3/3 [==============================] - 1s 85ms/step\n"
     ]
    },
    {
     "name": "stderr",
     "output_type": "stream",
     "text": [
      "2023-06-19 21:41:07.561279: I tensorflow/core/common_runtime/executor.cc:1197] [/device:CPU:0] (DEBUG INFO) Executor start aborting (this does not indicate an error and you can ignore this message): INVALID_ARGUMENT: You must feed a value for placeholder tensor 'gradients/split_2_grad/concat/split_2/split_dim' with dtype int32\n",
      "\t [[{{node gradients/split_2_grad/concat/split_2/split_dim}}]]\n",
      "2023-06-19 21:41:07.562241: I tensorflow/core/common_runtime/executor.cc:1197] [/device:CPU:0] (DEBUG INFO) Executor start aborting (this does not indicate an error and you can ignore this message): INVALID_ARGUMENT: You must feed a value for placeholder tensor 'gradients/split_grad/concat/split/split_dim' with dtype int32\n",
      "\t [[{{node gradients/split_grad/concat/split/split_dim}}]]\n",
      "2023-06-19 21:41:07.563227: I tensorflow/core/common_runtime/executor.cc:1197] [/device:CPU:0] (DEBUG INFO) Executor start aborting (this does not indicate an error and you can ignore this message): INVALID_ARGUMENT: You must feed a value for placeholder tensor 'gradients/split_1_grad/concat/split_1/split_dim' with dtype int32\n",
      "\t [[{{node gradients/split_1_grad/concat/split_1/split_dim}}]]\n"
     ]
    },
    {
     "name": "stdout",
     "output_type": "stream",
     "text": [
      "3/3 [==============================] - 0s 74ms/step\n"
     ]
    }
   ],
   "source": [
    "y_pred_RNN = model_RNN.predict(X_test)\n",
    "y_pred_lstm = model_lstm.predict(X_test)\n",
    "y_pred_GRU = model_GRU.predict(X_test)"
   ]
  },
  {
   "cell_type": "code",
   "execution_count": 17,
   "metadata": {
    "pycharm": {
     "name": "#%%\n"
    }
   },
   "outputs": [],
   "source": [
    "y_pred_RNN = np.argmax(y_pred_RNN, axis=2)\n",
    "y_pred_lstm = np.argmax(y_pred_lstm, axis=2)\n",
    "y_pred_GRU = np.argmax(y_pred_GRU, axis=2)"
   ]
  },
  {
   "cell_type": "code",
   "execution_count": 18,
   "metadata": {
    "pycharm": {
     "name": "#%%\n"
    }
   },
   "outputs": [],
   "source": [
    "f1_score_RNN = f1_score(y_test.flatten(), y_pred_RNN.flatten(), average='weighted')\n",
    "f1_score_lstm = f1_score(y_test.flatten(), y_pred_lstm.flatten(), average='weighted')\n",
    "f1_score_GRU = f1_score(y_test.flatten(), y_pred_GRU.flatten(), average='weighted')"
   ]
  },
  {
   "cell_type": "code",
   "execution_count": 19,
   "metadata": {
    "pycharm": {
     "name": "#%%\n"
    }
   },
   "outputs": [
    {
     "name": "stdout",
     "output_type": "stream",
     "text": [
      "RNN Model:\n",
      "Loss: 6.350351333618164\n",
      "Accuracy: 0.24266666173934937\n",
      "F1 Score: 0.19606181015452537\n",
      "\n",
      "LSTM Model:\n",
      "Loss: 6.47873592376709\n",
      "Accuracy: 0.19200000166893005\n",
      "F1 Score: 0.187392\n",
      "\n",
      "GRU Model:\n",
      "Loss: 6.7476806640625\n",
      "Accuracy: 0.14622221887111664\n",
      "F1 Score: 0.1574170710819298\n"
     ]
    }
   ],
   "source": [
    "print(\"RNN Model:\")\n",
    "print(\"Loss:\", loss_RNN)\n",
    "print(\"Accuracy:\", acc_RNN)\n",
    "print(\"F1 Score:\", f1_score_RNN)\n",
    "\n",
    "print(\"\\nLSTM Model:\")\n",
    "print(\"Loss:\", loss_lstm)\n",
    "print(\"Accuracy:\", acc_lstm)\n",
    "print(\"F1 Score:\", f1_score_lstm)\n",
    "\n",
    "print(\"\\nGRU Model:\")\n",
    "print(\"Loss:\", loss_GRU)\n",
    "print(\"Accuracy:\", acc_GRU)\n",
    "print(\"F1 Score:\", f1_score_GRU)"
   ]
  },
  {
   "cell_type": "code",
   "execution_count": 22,
   "metadata": {
    "pycharm": {
     "name": "#%%\n"
    }
   },
   "outputs": [
    {
     "data": {
      "image/png": "[encoded data removed]",
      "text/plain": [
       "<Figure size 640x480 with 1 Axes>"
      ]
     },
     "metadata": {},
     "output_type": "display_data"
    }
   ],
   "source": [
    "import matplotlib.pyplot as plt\n",
    "\n",
    "epochs = range(1, len(history_RNN.history['accuracy']) + 1)\n",
    "\n",
    "plt.plot(epochs, history_RNN.history['accuracy'], 'b', label='RNN Training Accuracy')\n",
    "plt.plot(epochs, history_RNN.history['val_accuracy'], 'g', label='RNN Validation Accuracy')\n",
    "plt.plot(epochs, history_lstm.history['accuracy'], 'r', label='LSTM Training Accuracy')\n",
    "plt.plot(epochs, history_lstm.history['val_accuracy'], 'm', label='LSTM Validation Accuracy')\n",
    "plt.plot(epochs, history_GRU.history['accuracy'], 'c', label='GRU Training Accuracy')\n",
    "plt.plot(epochs, history_GRU.history['val_accuracy'], 'y', label='GRU Validation Accuracy')\n",
    "plt.title('Training and Validation Accuracy')\n",
    "plt.xlabel('Epochs')\n",
    "plt.ylabel('Accuracy')\n",
    "plt.legend()\n",
    "plt.show()"
   ]
  },
  {
   "cell_type": "code",
   "execution_count": 24,
   "metadata": {
    "pycharm": {
     "name": "#%%\n"
    }
   },
   "outputs": [
    {
     "name": "stdout",
     "output_type": "stream",
     "text": [
      "3/3 [==============================] - 0s 35ms/step\n",
      "Audio File: 12441949.wav\n",
      "Predicted Text: \n",
      "Original Text: دیواره ی شمالی که ارتفاعات محدودی از این دیواره در استان تهران و بقیه ی آن در استان مازندران قرار دارد\n",
      "\n",
      "Audio File: 12441975.wav\n",
      "Predicted Text: \n",
      "Original Text: و تا دریاچه ی نمک در کویر مرکزی ایران امتداد دارد و در نهایت به دریاچه ی حوض سلطان میریزد\n",
      "\n",
      "Audio File: 12560011.wav\n",
      "Predicted Text: \n",
      "Original Text: دلاور همچنان چند دقیقه ای در دل سکوت سر خورد جلو رفت یکی از جاشو ها\n",
      "\n",
      "Audio File: 12560213.wav\n",
      "Predicted Text: \n",
      "Original Text: دهستان پس قلعه در انتهای منطقه ی ییلاقی سربند و دربند و دو کیلومتری شمیران قرار دارد پس قلعه\n",
      "\n",
      "Audio File: 12560207.wav\n",
      "Predicted Text: ژاکت ژاکت ژاکت ژاکت ژاکت ژاکت ژاکت ژاکت ژاکت ژاکت ژاکت ژاکت ژاکت ژاکت ژاکت ژاکت ژاکت ژاکت ژاکت ژاکت ژاکت ژاکت ژاکت ژاکت ژاکت ژاکت ژاکت ژاکت ژاکت ژاکت\n",
      "Original Text: اما اینبار دلاور بر موجی باورنکردنی شناور شد موجی که هیچ کس تا آن وقت\n",
      "\n",
      "Audio File: 12440128.wav\n",
      "Predicted Text: پوسته پوسته پوسته پوسته پوسته پوسته پوسته پوسته پوسته پوسته پوسته پوسته پوسته پوسته پوسته پوسته پوسته پوسته پوسته پوسته پوسته پوسته پوسته پوسته پوسته پوسته پوسته پوسته پوسته پوسته\n",
      "Original Text: رودخانه ی شاه چای که تا سالیان متمادی خروشان بود و بعضی سال ها در پاییز بهار طغیان هم می کرد\n",
      "\n",
      "Audio File: 12442071.wav\n",
      "Predicted Text: اسفند اسفند اسفند اسفند اسفند اسفند اسفند اسفند اسفند اسفند اسفند اسفند اسفند اسفند اسفند اسفند اسفند اسفند اسفند اسفند اسفند اسفند اسفند اسفند اسفند اسفند اسفند اسفند اسفند اسفند\n",
      "Original Text: برای همین ما یک بار در سال توو فصل بهار به سفر دریایی میریم خیلی دل میخواد\n",
      "\n",
      "Audio File: 12560429.wav\n",
      "Predicted Text: \n",
      "Original Text: هر سه تا جایی که می توانستند طول رودخانه را پیاده رفتند راه بیش از اندازه شیبدار بود\n",
      "\n",
      "Audio File: 12560367.wav\n",
      "Predicted Text: خورد خورد خورد خورد خورد خورد خورد خورد خورد خورد خورد خورد خورد خورد خورد خورد خورد خورد خورد خورد خورد خورد خورد خورد خورد خورد خورد خورد خورد خورد\n",
      "Original Text: قله ایی که آنها رویش ایستاده بودند از همه بلندتر بود آن ها حس می کردند بر بام دنیا هستند\n",
      "\n",
      "Audio File: 12560373.wav\n",
      "Predicted Text: \n",
      "Original Text: پیاده روی کرد تا به تنگه ی اول و ابتدای دشت ساواشی به طول دو کیلومتر رسید\n",
      "\n",
      "Audio File: 12520031.wav\n",
      "Predicted Text: چای چای چای چای چای چای چای چای چای چای چای چای چای چای چای چای چای چای چای چای چای چای چای چای چای چای چای چای چای چای\n",
      "Original Text: تومک از خود می پرسید که آیا هنوز خون در رگ هایش جریان دارد می لرزید چون سرمای مرطوبی روی آب\n",
      "\n",
      "Audio File: 12560415.wav\n",
      "Predicted Text: اسفند اسفند اسفند اسفند اسفند اسفند اسفند اسفند اسفند اسفند اسفند اسفند اسفند اسفند اسفند اسفند اسفند اسفند اسفند اسفند اسفند اسفند اسفند اسفند اسفند اسفند اسفند اسفند اسفند اسفند\n",
      "Original Text: همراه با قله های فرعی سرکچال دو و سرکچال سه روی یک خط الراس شرقی غربی در شمال شمشک\n",
      "\n",
      "Audio File: 12560398.wav\n",
      "Predicted Text: \n",
      "Original Text: از طریق گردنه ی دیزین نیز میسر است توچال قله ایی در شمال تهران است که ارتفاعی نزدیک به چهار هزار متر دارد\n",
      "\n",
      "Audio File: 12441430.wav\n",
      "Predicted Text: بنا بنا بنا بنا بنا بنا بنا بنا بنا بنا بنا بنا بنا بنا بنا بنا بنا بنا بنا بنا بنا بنا بنا بنا بنا بنا بنا بنا بنا بنا\n",
      "Original Text: که از ذوب شدن برف قله های بالا دست تشکیل می شود این مسیر در چهار فصل بسیار زیباست برگهای سبز بهاری\n",
      "\n",
      "Audio File: 12441418.wav\n",
      "Predicted Text: تاریخی تاریخی تاریخی تاریخی تاریخی تاریخی تاریخی تاریخی تاریخی تاریخی تاریخی تاریخی تاریخی تاریخی تاریخی تاریخی تاریخی تاریخی تاریخی تاریخی تاریخی تاریخی تاریخی تاریخی تاریخی تاریخی تاریخی تاریخی تاریخی تاریخی\n",
      "Original Text: و روستای سپیدستان شروع می شود همچنین به سبب قرار گرفتن سرکچال و کلون بستک صعود به این دو قله\n",
      "\n",
      "Audio File: 12560159.wav\n",
      "Predicted Text: اسفند اسفند اسفند اسفند اسفند اسفند اسفند اسفند اسفند اسفند اسفند اسفند اسفند اسفند اسفند اسفند اسفند اسفند اسفند اسفند اسفند اسفند اسفند اسفند اسفند اسفند اسفند اسفند اسفند اسفند\n",
      "Original Text: کش آمدند یکی بهتر از دیگری تماشای آنها لذت بخش بود انگار مسری بود\n",
      "\n",
      "Audio File: 12560165.wav\n",
      "Predicted Text: \n",
      "Original Text: و از شهرستانهای کرج شهریار اسلامشهر و قم می گذرد و سرانجام به دریاچه ی نمک قم می ریزد\n",
      "\n",
      "Audio File: 12560171.wav\n",
      "Predicted Text: \n",
      "Original Text: این کوه شبیه دیواری بلند است که در بالای آن قلعه ی تاریخی مربوط به زمان اسماعیلیان به چشم می خورد\n",
      "\n",
      "Audio File: 12440262.wav\n",
      "Predicted Text: \n",
      "Original Text: آیا شما از جنگل وحشتناک خرسها عبور کرده اید به هر حال شما هم مثل من از چمنزار رد شده اید\n",
      "\n",
      "Audio File: 12440276.wav\n",
      "Predicted Text: \n",
      "Original Text: از مجهزترین پیست های اسکی کشور و تنها پیست دارای دستگاه برف ساز است که همواره\n",
      "\n",
      "Audio File: 12440263.wav\n",
      "Predicted Text: \n",
      "Original Text: باغها و زمینهای کشاورزی وسیعی را سیراب می کرد و کشاورزان دامداران بسیاری در کناره های این رود\n",
      "\n",
      "Audio File: 12560164.wav\n",
      "Predicted Text: \n",
      "Original Text: آن بالا یک غافلگیری در انتظار اشان بود پوشش گیاهی کمتر کمتر شد\n",
      "\n",
      "Audio File: 12560158.wav\n",
      "Predicted Text: \n",
      "Original Text: و مخصوص پرندگانی ایست که قابلیت پرواز دارند پوسته و توری های طراحی شده برای این بخش از خروج پرندگان از این فضا\n",
      "\n",
      "Audio File: 12442104.wav\n",
      "Predicted Text: \n",
      "Original Text: تقریباً سیاه بود در همان حال که دلاور آرام جایش را در ادامه ی کشتی های دیگر پیدا می کرد\n",
      "\n",
      "Audio File: 12442110.wav\n",
      "Predicted Text: \n",
      "Original Text: با شنیدن این موسیقی آسمانی با خود فکر کرد که اگر این پایان راه است باید گفت که ما در\n",
      "\n",
      "Audio File: 12441419.wav\n",
      "Predicted Text: \n",
      "Original Text: او اصلاً انتظار دیدن دوباره ی هانا را نداشت برای همین اشک در چشمانش جمع شد\n",
      "\n",
      "Audio File: 12441425.wav\n",
      "Predicted Text: \n",
      "Original Text: رود شاه چای شاخه ایی از رودخانه ی کرج است که در استان های البرز تهران و قم جریان دارد\n",
      "\n",
      "Audio File: 12560399.wav\n",
      "Predicted Text: اسفند اسفند اسفند اسفند اسفند اسفند اسفند اسفند اسفند اسفند اسفند اسفند اسفند اسفند اسفند اسفند اسفند اسفند اسفند اسفند اسفند اسفند اسفند اسفند اسفند اسفند اسفند اسفند اسفند اسفند\n",
      "Original Text: خیلی پیر شده بود ولی من اونو شناختم اون زیر درخت کمی ایستاد تا شهر امون رو تماشا کنه\n",
      "\n",
      "Audio File: 12560372.wav\n",
      "Predicted Text: \n",
      "Original Text: اگه تمایل داشته باشی میتونی بهار با تجهیزات ما سوار کشتی بشی اما\n",
      "\n",
      "Audio File: 12560414.wav\n",
      "Predicted Text: چای چای چای چای چای چای چای چای چای چای چای چای چای چای چای چای چای چای چای چای چای چای چای چای چای چای چای چای چای چای\n",
      "Original Text: از جذاب ترین بخش های سفر به تنگه واشی حرکت در طول رودخانه ایست که بین یک دره ی سنگی قرار دارد\n",
      "\n",
      "Audio File: 12520030.wav\n",
      "Predicted Text: سال سال سال سال سال سال سال سال سال سال سال سال سال سال سال سال سال سال سال سال سال سال سال سال سال سال سال سال سال سال\n",
      "Original Text: او روح ظریفی داره و مادر دختر با احساس گناه تن های لرزان اشان را به هم فشردن آشپز\n",
      "\n",
      "Audio File: 12560400.wav\n",
      "Predicted Text: \n",
      "Original Text: در این فصل از کوه ها قله های بلند استان تهران خواهیم گفت آب باریک کوهی واقع در البرز مرکزی\n",
      "\n",
      "Audio File: 12560366.wav\n",
      "Predicted Text: \n",
      "Original Text: شب آخر بعد از آنکه همه چیز را خوب بررسی کرد پشت پیشخوان اش نشست\n",
      "\n",
      "Audio File: 12441237.wav\n",
      "Predicted Text: خورد خورد خورد خورد خورد خورد خورد خورد خورد خورد خورد خورد خورد خورد خورد خورد خورد خورد خورد خورد خورد خورد خورد خورد خورد خورد خورد خورد خورد خورد\n",
      "Original Text: من میتونم خیلی بلند جیغ بکشم میدونی میخوای بشنوی تومک گفت نه لازم نیست من حرفتو باور می کنم\n",
      "\n",
      "Audio File: 12440129.wav\n",
      "Predicted Text: پوسته پوسته پوسته پوسته پوسته پوسته پوسته پوسته پوسته پوسته پوسته پوسته پوسته پوسته پوسته پوسته پوسته پوسته پوسته پوسته پوسته پوسته پوسته پوسته پوسته پوسته پوسته پوسته پوسته پوسته\n",
      "Original Text: قدمت این غار به دوره ی سوم زمین شناسی یعنی هفتاد میلیون سال پیش باز می گردد\n",
      "\n",
      "Audio File: 12560206.wav\n",
      "Predicted Text: سردی سردی سردی سردی سردی سردی سردی سردی سردی سردی سردی سردی سردی سردی سردی سردی سردی سردی سردی سردی سردی سردی سردی سردی سردی سردی سردی سردی سردی سردی\n",
      "Original Text: آیا آن سرزمین های دور گرم ان یا سرد آیا باید کفش های پشمی\n",
      "\n",
      "Audio File: 12441960.wav\n",
      "Predicted Text: \n",
      "Original Text: این موضوع باعث شد تا هانا کلی سرگرم شود و بخندد هانا\n",
      "\n",
      "Audio File: 12560010.wav\n",
      "Predicted Text: \n",
      "Original Text: او دیگر تنها نبود اما این مسئله اصلاً خیالش را راحت تر نکرد درست برعکس\n",
      "\n",
      "Audio File: 12441974.wav\n",
      "Predicted Text: ژاکت ژاکت ژاکت ژاکت ژاکت ژاکت ژاکت ژاکت ژاکت ژاکت ژاکت ژاکت ژاکت ژاکت ژاکت ژاکت ژاکت ژاکت ژاکت ژاکت ژاکت ژاکت ژاکت ژاکت ژاکت ژاکت ژاکت ژاکت ژاکت ژاکت\n",
      "Original Text: هر کدوم از شما در انجام وظایف اتون آزاد رها هستین\n",
      "\n",
      "Audio File: 12441948.wav\n",
      "Predicted Text: \n",
      "Original Text: آبشار چال مگس شمیران دارآباد در شهر تهران واقع است کوههای دارآباد\n",
      "\n",
      "Audio File: 12441976.wav\n",
      "Predicted Text: \n",
      "Original Text: غار رود افشان از آثار طبیعی ثبت شده ی ایران است که در مجاورت روستایی به همین نام\n",
      "\n",
      "Audio File: 12560012.wav\n",
      "Predicted Text: انتخاب انتخاب انتخاب انتخاب انتخاب انتخاب انتخاب انتخاب انتخاب انتخاب انتخاب انتخاب انتخاب انتخاب انتخاب انتخاب انتخاب انتخاب انتخاب انتخاب انتخاب انتخاب انتخاب انتخاب انتخاب انتخاب انتخاب انتخاب انتخاب انتخاب\n",
      "Original Text: صندوق های ابر با دقت تمام در ته کشتی قرار داده شدند روز حرکت\n",
      "\n",
      "Audio File: 12441989.wav\n",
      "Predicted Text: خورد خورد خورد خورد خورد خورد خورد خورد خورد خورد خورد خورد خورد خورد خورد خورد خورد خورد خورد خورد خورد خورد خورد خورد خورد خورد خورد خورد خورد خورد\n",
      "Original Text: نه پنجه داره نه دندون تیز فقط از برگ درختا میخوره در همین لحظه خرس در آب\n",
      "\n",
      "Audio File: 12560204.wav\n",
      "Predicted Text: اسفند اسفند اسفند اسفند اسفند اسفند اسفند اسفند اسفند اسفند اسفند اسفند اسفند اسفند اسفند اسفند اسفند اسفند اسفند اسفند اسفند اسفند اسفند اسفند اسفند اسفند اسفند اسفند اسفند اسفند\n",
      "Original Text: و زیبای شهر تهران به حساب می آید این پارک در حدود هزار هکتار وسعت دارد که با کاربری تفریحی\n",
      "\n",
      "Audio File: 12442072.wav\n",
      "Predicted Text: \n",
      "Original Text: با دیدن تعجب دوست جوانش از خنده روده بر شد بعد دلش برایش سوخت\n",
      "\n",
      "Audio File: 12442066.wav\n",
      "Predicted Text: خورد خورد خورد خورد خورد خورد خورد خورد خورد خورد خورد خورد خورد خورد خورد خورد خورد خورد خورد خورد خورد خورد خورد خورد خورد خورد خورد خورد خورد خورد\n",
      "Original Text: هرگز از اولین سفرش برنگشت استرگن دماغش را بالا کشید\n",
      "\n",
      "Audio File: 12441209.wav\n",
      "Predicted Text: \n",
      "Original Text: التماس می کرد او با مادرش در آن واحد حرف می زد و طاسی سر و گونه های برادر را نوازش می کرد و جز سخنان محبت آمیز نمی گفت\n",
      "\n",
      "Audio File: 12560358.wav\n",
      "Predicted Text: \n",
      "Original Text: ژاکت ضخیم کفش کوهنوردی بر دارد یا برعکس باید تا جایی که ممکن است\n",
      "\n",
      "Audio File: 12560370.wav\n",
      "Predicted Text: \n",
      "Original Text: رودخانه ی دارآباد سرانجام با عبور از لویزان حسین آباد مبارک آباد و شمس آباد به مسیل باختر میریزد\n",
      "\n",
      "Audio File: 12520026.wav\n",
      "Predicted Text: اسفند اسفند اسفند اسفند اسفند اسفند اسفند اسفند اسفند اسفند اسفند اسفند اسفند اسفند اسفند اسفند اسفند اسفند اسفند اسفند اسفند اسفند اسفند اسفند اسفند اسفند اسفند اسفند اسفند اسفند\n",
      "Original Text: آن ها تا مدت ها در آغوش هم بودند وقتی اولین احساسات کم رنگ تر شد\n",
      "\n",
      "Audio File: 12441427.wav\n",
      "Predicted Text: اسفند اسفند اسفند اسفند اسفند اسفند اسفند اسفند اسفند اسفند اسفند اسفند اسفند اسفند اسفند اسفند اسفند اسفند اسفند اسفند اسفند اسفند اسفند اسفند اسفند اسفند اسفند اسفند اسفند اسفند\n",
      "Original Text: فهمیدنش سخت نیست تومک که سرخ شده بود جواب داد منم\n",
      "\n",
      "Audio File: 12442106.wav\n",
      "Predicted Text: کتاب کتاب کتاب کتاب کتاب کتاب کتاب کتاب کتاب کتاب کتاب کتاب کتاب کتاب کتاب کتاب کتاب کتاب کتاب کتاب کتاب کتاب کتاب کتاب کتاب کتاب کتاب کتاب کتاب کتاب\n",
      "Original Text: چه خطراتی در کمین ماست همه ی اینها فقط برای این است که شاید یک روز برسد که من بتوانم قطره ای\n",
      "\n",
      "Audio File: 12442112.wav\n",
      "Predicted Text: اسفند اسفند اسفند اسفند اسفند اسفند اسفند اسفند اسفند اسفند اسفند اسفند اسفند اسفند اسفند اسفند اسفند اسفند اسفند اسفند اسفند اسفند اسفند اسفند اسفند اسفند اسفند اسفند اسفند اسفند\n",
      "Original Text: خنک های تابستانی رنگ های زیبای پاییزی و برف سپید یکدست زمستانی هر کدام تابلویی جذاب\n",
      "\n",
      "Audio File: 12560172.wav\n",
      "Predicted Text: \n",
      "Original Text: مجموعه دریاچه ی آهنک در پنج کیلومتری جنوب روستای سیمین دشت از توابع فیروزکوه قرار دارد\n",
      "\n",
      "Audio File: 12560166.wav\n",
      "Predicted Text: \n",
      "Original Text: در حوزه ی آبخیز این رودخانه قرار دارد و از چند حوزه ی کوچک تشکیل می شود دو شاخه ی اصلی آن\n",
      "\n",
      "Audio File: 12440249.wav\n",
      "Predicted Text: \n",
      "Original Text: کلید فروشگاه را برای تو می گذارم چون اگر با خود ببرم ممکن است گمش کنم\n",
      "\n",
      "Audio File: 12440275.wav\n",
      "Predicted Text: \n",
      "Original Text: هرگونه عملیاتی بی فایده است ما مستقیم به سمت رنگین کمان کشیده میشیم دلاور خیلی خوب جنگیده\n",
      "\n",
      "Audio File: 12440261.wav\n",
      "Predicted Text: گذارم گذارم گذارم گذارم گذارم گذارم گذارم گذارم گذارم گذارم گذارم گذارم گذارم گذارم گذارم گذارم گذارم گذارم گذارم گذارم گذارم گذارم گذارم گذارم گذارم گذارم گذارم گذارم گذارم گذارم\n",
      "Original Text: چشمه علی در شهر ری که در گویش محلی چشم علی نامیده می شود از نقاط باستانی دیدنی و گردشگری شهر ری\n",
      "\n",
      "Audio File: 12440260.wav\n",
      "Predicted Text: \n",
      "Original Text: البته اگر آب رودخانه را به دست بیاورند او با یک پارچه ی محکم\n",
      "\n",
      "Audio File: 12440274.wav\n",
      "Predicted Text: \n",
      "Original Text: منطقه ی شکار ممنوع کوه سفید در استان تهران و سمنان قرار گرفته و مساحتی در حدود صد پنجاه هزار هکتار دارد\n",
      "\n",
      "Audio File: 12560198.wav\n",
      "Predicted Text: \n",
      "Original Text: در پایان پاروی زیبایی از پوست درخت آماده کرد روی کلک پرید و با کمک چوب اش\n",
      "\n",
      "Audio File: 12440248.wav\n",
      "Predicted Text: \n",
      "Original Text: تومک گفت در واقع من قصد دارم به راهم ادامه بدم تردید داشتم\n",
      "\n",
      "Audio File: 12560173.wav\n",
      "Predicted Text: \n",
      "Original Text: به صورت طبقه طبقه ساخته شده است هر طبقه شامل فضای سبز آلاچیق\n",
      "\n",
      "Audio File: 12442113.wav\n",
      "Predicted Text: اسفند اسفند اسفند اسفند اسفند اسفند اسفند اسفند اسفند اسفند اسفند اسفند اسفند اسفند اسفند اسفند اسفند اسفند اسفند اسفند اسفند اسفند اسفند اسفند اسفند اسفند اسفند اسفند اسفند اسفند\n",
      "Original Text: این دریاچه در مرز استان های تهران مازندران و در شمال شرقی و انتهای دره ی بزرگ وارنگهرود واقع شده است\n",
      "\n",
      "Audio File: 12441426.wav\n",
      "Predicted Text: مادر مادر مادر مادر مادر مادر مادر مادر مادر مادر مادر مادر مادر مادر مادر مادر مادر مادر مادر مادر مادر مادر مادر مادر مادر مادر مادر مادر مادر مادر\n",
      "Original Text: آن را به آبشاری مصنوعی تبدیل کرده است همچنین در پایین دست این آبشار و با فاصله ایی کوتاه از بند سنگی\n",
      "\n",
      "Audio File: 12560359.wav\n",
      "Predicted Text: خورد خورد خورد خورد خورد خورد خورد خورد خورد خورد خورد خورد خورد خورد خورد خورد خورد خورد خورد خورد خورد خورد خورد خورد خورد خورد خورد خورد خورد خورد\n",
      "Original Text: چندین بنا در آن منطقه ساخته شده بود در ساختمان اول گل های خشکی که مردم در تابستان گذشته چیده بودن\n",
      "\n",
      "Audio File: 12441397.wav\n",
      "Predicted Text: \n",
      "Original Text: رودخانه ی گلابدره رود کوچکی در شرق رودخانه ی تجریش یا دربند است که با عبور از غرب امامزاده قاسم\n",
      "\n",
      "Audio File: 12442067.wav\n",
      "Predicted Text: \n",
      "Original Text: جای مسطح که حدوداً مساحتش ده متر بود رسیدند و فهمیدند که در نوک قله اند آنچه که دیدند\n",
      "\n",
      "Audio File: 12442073.wav\n",
      "Predicted Text: تاریخی تاریخی تاریخی تاریخی تاریخی تاریخی تاریخی تاریخی تاریخی تاریخی تاریخی تاریخی تاریخی تاریخی تاریخی تاریخی تاریخی تاریخی تاریخی تاریخی تاریخی تاریخی تاریخی تاریخی تاریخی تاریخی تاریخی تاریخی تاریخی تاریخی\n",
      "Original Text: انگار که آب دریا رو میمکه شروع رود وسیع مثل یه رودخونه ی بزرگ\n",
      "\n",
      "Audio File: 12560211.wav\n",
      "Predicted Text: \n",
      "Original Text: گاهی هم عطره تازه ایی را به او می داد تا بو کند یا اگر نسبت به بوی عطری شک داشت از او می پرسید\n",
      "\n",
      "Audio File: 12560205.wav\n",
      "Predicted Text: \n",
      "Original Text: چند کتاب درباره ی ماجراجویی داشت برای پیدا کردن جواب آن ها را خواند ولی هیچ\n",
      "\n",
      "Audio File: 12560239.wav\n",
      "Predicted Text: \n",
      "Original Text: و خیلی زود مطمئن شد که قایقی دارد نزدیک می شود یک کلک شاید مثل کلک خودش\n",
      "\n",
      "Audio File: 12441988.wav\n",
      "Predicted Text: اسفند اسفند اسفند اسفند اسفند اسفند اسفند اسفند اسفند اسفند اسفند اسفند اسفند اسفند اسفند اسفند اسفند اسفند اسفند اسفند اسفند اسفند اسفند اسفند اسفند اسفند اسفند اسفند اسفند اسفند\n",
      "Original Text: چیزی ته آب برق می زد نگاه کرد دید که سکه ی همان دختر بود\n",
      "\n",
      "Audio File: 12441977.wav\n",
      "Predicted Text: \n",
      "Original Text: تغییر می کند که دلیل نامگذاری تیزاب به همین علت است چشمه ی تیزاب خواص درمانی بسیاری\n",
      "\n",
      "Audio File: 12560007.wav\n",
      "Predicted Text: \n",
      "Original Text: که از دره ی لار لواسانات در نزدیکی کوه دماوند سرچشمه گرفته و به سد لار میریزد\n",
      "\n"
     ]
    }
   ],
   "source": [
    "predicted_sequences_RNN = model_RNN.predict(X_test)\n",
    "predicted_sequences_RNN = np.argmax(predicted_sequences_RNN, axis=2)\n",
    "predicted_texts_RNN = tokenizer.sequences_to_texts(predicted_sequences_RNN)\n",
    "original_texts = tokenizer.sequences_to_texts(y_test)\n",
    "for i in range(len(predicted_texts_RNN)):\n",
    "    print(\"Audio File:\", audio_files[i])\n",
    "    print(\"Predicted Text:\", predicted_texts_RNN[i])\n",
    "    print(\"Original Text:\", original_texts[i])\n",
    "    print()\n"
   ]
  },
  {
   "cell_type": "code",
   "execution_count": null,
   "metadata": {
    "pycharm": {
     "name": "#%%\n"
    }
   },
   "outputs": [],
   "source": []
  }
 ],
 "metadata": {
  "interpreter": {
   "hash": "e38655fc7986b9c6a0ffd9e2e780c486dc91e83bbde61850aba86ab0ee8ade4f"
  },
  "kernelspec": {
   "display_name": "Python 3.11.3 ('tf1')",
   "language": "python",
   "name": "python3"
  },
  "language_info": {
   "codemirror_mode": {
    "name": "ipython",
    "version": 3
   },
   "file_extension": ".py",
   "mimetype": "text/x-python",
   "name": "python",
   "nbconvert_exporter": "python",
   "pygments_lexer": "ipython3",
   "version": "3.11.3"
  },
  "orig_nbformat": 4
 },
 "nbformat": 4,
 "nbformat_minor": 2
}